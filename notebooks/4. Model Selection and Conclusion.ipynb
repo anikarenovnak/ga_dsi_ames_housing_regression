{
 "cells": [
  {
   "cell_type": "markdown",
   "metadata": {},
   "source": [
    "# 1. Model Selection "
   ]
  },
  {
   "cell_type": "markdown",
   "metadata": {},
   "source": [
    "I produced a lot of training and testing scores in the Model Building and Hyperparameter Tuning notebook. In this notebook I will visualize all of these scores and will select the best model based on the conjunction of two conditions: \n",
    "    1. The highest possible training and testing scores \n",
    "    AND\n",
    "    2. The smallest difference between training and testing scores "
   ]
  },
  {
   "cell_type": "markdown",
   "metadata": {},
   "source": [
    "These two conditions together ensure that we select the model that has the highest possible cross val score and the optimal bias-variance tradeoff. Because the testing and training scores are close together we know that our model is neither too biased, nor too variant which means it will have strong generalizability to future unseen data. "
   ]
  },
  {
   "cell_type": "markdown",
   "metadata": {},
   "source": [
    "Each visualization below is a graph for Linear Regression, Lasso and RIdge respectively that demonstrates **the evolution of training and testing cross Validation scores over different types of models**. The yellow line represents the evolution of training scores, while the green line represents the evolution of testing scores in each visualization. "
   ]
  },
  {
   "cell_type": "markdown",
   "metadata": {},
   "source": [
    "![legend.png](./images/legend.png)"
   ]
  },
  {
   "cell_type": "markdown",
   "metadata": {},
   "source": [
    "![lin_reg](./images/linear_regression.png)"
   ]
  },
  {
   "cell_type": "markdown",
   "metadata": {},
   "source": [
    "![lass](./images/lasso.png)"
   ]
  },
  {
   "cell_type": "markdown",
   "metadata": {},
   "source": [
    "![ridge](./images/ridge.png)"
   ]
  },
  {
   "cell_type": "markdown",
   "metadata": {},
   "source": [
    "So the best model with the smallest difference between testing score and traiing score is the ridge model with the following hyperparameters and features:"
   ]
  },
  {
   "cell_type": "markdown",
   "metadata": {},
   "source": [
    "**Hyperparameters:** {'kbest__k': 20, 'power_t__method': 'yeo-johnson', 'ridge__alphas': (0.1, 1.0, 10), 'ss__with_mean': True, 'var_thresh__threshold': 0.75}"
   ]
  },
  {
   "cell_type": "markdown",
   "metadata": {},
   "source": [
    "**Features in decsending order of most relevance:** 'Year Built', 'sf', 'Year Remod/Add', 'Fireplace Qu', 'BsmtFin SF 1', 'Lot Area', 'Garage Area', 'garage', 'Bsmt Exposure', 'Mas Vnr Area', 'Open Porch SF', 'outside', 'Lot Frontage', 'BsmtFin Type 1', 'Wood Deck SF', '1st Flr SF', 'Garage Yr Blt', 'Gr Liv Area', 'Total Bsmt SF', 'year'"
   ]
  },
  {
   "cell_type": "markdown",
   "metadata": {},
   "source": [
    "![compare](./images/ridge_baseline.png)"
   ]
  },
  {
   "cell_type": "markdown",
   "metadata": {},
   "source": [
    "Lastly, the above visualization shows from left to right\n",
    "1. the cross validation scores of the simplest model possible (high bias) with only one preditor feature, square footage\n",
    "\n",
    "2. my chosen ridge model train score\n",
    "\n",
    "3. my chosen ridge model test score\n",
    "\n",
    "4. the scross val score for the most complex model possible (high variance) with all the features included"
   ]
  }
 ],
 "metadata": {
  "kernelspec": {
   "display_name": "Python 3",
   "language": "python",
   "name": "python3"
  },
  "language_info": {
   "codemirror_mode": {
    "name": "ipython",
    "version": 3
   },
   "file_extension": ".py",
   "mimetype": "text/x-python",
   "name": "python",
   "nbconvert_exporter": "python",
   "pygments_lexer": "ipython3",
   "version": "3.7.1"
  }
 },
 "nbformat": 4,
 "nbformat_minor": 2
}
